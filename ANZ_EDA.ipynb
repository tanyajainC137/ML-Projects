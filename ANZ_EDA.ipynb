{
  "nbformat": 4,
  "nbformat_minor": 0,
  "metadata": {
    "colab": {
      "name": "ANZ EDA",
      "provenance": [],
      "collapsed_sections": []
    },
    "kernelspec": {
      "name": "python3",
      "display_name": "Python 3"
    },
    "accelerator": "GPU"
  },
  "cells": [
    {
      "cell_type": "code",
      "metadata": {
        "id": "z7VuHt0lAKna",
        "colab_type": "code",
        "colab": {}
      },
      "source": [
        "import os\n",
        "import sys\n",
        "import pandas as pd\n",
        "import numpy as np\n",
        "import matplotlib.pyplot as plt\n",
        "import seaborn as sns\n",
        "from datetime import datetime, timedelta\n"
      ],
      "execution_count": null,
      "outputs": []
    },
    {
      "cell_type": "code",
      "metadata": {
        "id": "E4R0rms2E3E8",
        "colab_type": "code",
        "colab": {
          "base_uri": "https://localhost:8080/",
          "height": 34
        },
        "outputId": "9ee40eb0-b517-46ee-db5f-e04861cad3dc"
      },
      "source": [
        "from google.colab import drive\n",
        "drive.mount('/content/drive')"
      ],
      "execution_count": null,
      "outputs": [
        {
          "output_type": "stream",
          "text": [
            "Drive already mounted at /content/drive; to attempt to forcibly remount, call drive.mount(\"/content/drive\", force_remount=True).\n"
          ],
          "name": "stdout"
        }
      ]
    },
    {
      "cell_type": "code",
      "metadata": {
        "id": "eX2Ib2p1E6Ir",
        "colab_type": "code",
        "colab": {}
      },
      "source": [
        "df = pd.read_excel('/content/drive/My Drive/Machine Learning/ANZ/ANZ synthesised transaction dataset.xlsx', sheet_name = 'DSynth_Output_100c_3m_v3')"
      ],
      "execution_count": null,
      "outputs": []
    },
    {
      "cell_type": "code",
      "metadata": {
        "id": "2p_AjkWuFE2b",
        "colab_type": "code",
        "colab": {
          "base_uri": "https://localhost:8080/",
          "height": 830
        },
        "outputId": "486dbad2-b5ed-4dbd-dcd0-dcb99700e596"
      },
      "source": [
        "df['balance_left'] = [y-z if x == 'debit' else y+z for x,y,z in zip(df['movement'], df['balance'],df['amount'])]\n",
        "df.head().T"
      ],
      "execution_count": null,
      "outputs": [
        {
          "output_type": "execute_result",
          "data": {
            "text/html": [
              "<div>\n",
              "<style scoped>\n",
              "    .dataframe tbody tr th:only-of-type {\n",
              "        vertical-align: middle;\n",
              "    }\n",
              "\n",
              "    .dataframe tbody tr th {\n",
              "        vertical-align: top;\n",
              "    }\n",
              "\n",
              "    .dataframe thead th {\n",
              "        text-align: right;\n",
              "    }\n",
              "</style>\n",
              "<table border=\"1\" class=\"dataframe\">\n",
              "  <thead>\n",
              "    <tr style=\"text-align: right;\">\n",
              "      <th></th>\n",
              "      <th>0</th>\n",
              "      <th>1</th>\n",
              "      <th>2</th>\n",
              "      <th>3</th>\n",
              "      <th>4</th>\n",
              "    </tr>\n",
              "  </thead>\n",
              "  <tbody>\n",
              "    <tr>\n",
              "      <th>status</th>\n",
              "      <td>authorized</td>\n",
              "      <td>authorized</td>\n",
              "      <td>authorized</td>\n",
              "      <td>authorized</td>\n",
              "      <td>authorized</td>\n",
              "    </tr>\n",
              "    <tr>\n",
              "      <th>card_present_flag</th>\n",
              "      <td>1</td>\n",
              "      <td>0</td>\n",
              "      <td>1</td>\n",
              "      <td>1</td>\n",
              "      <td>1</td>\n",
              "    </tr>\n",
              "    <tr>\n",
              "      <th>bpay_biller_code</th>\n",
              "      <td>NaN</td>\n",
              "      <td>NaN</td>\n",
              "      <td>NaN</td>\n",
              "      <td>NaN</td>\n",
              "      <td>NaN</td>\n",
              "    </tr>\n",
              "    <tr>\n",
              "      <th>account</th>\n",
              "      <td>ACC-1598451071</td>\n",
              "      <td>ACC-1598451071</td>\n",
              "      <td>ACC-1222300524</td>\n",
              "      <td>ACC-1037050564</td>\n",
              "      <td>ACC-1598451071</td>\n",
              "    </tr>\n",
              "    <tr>\n",
              "      <th>currency</th>\n",
              "      <td>AUD</td>\n",
              "      <td>AUD</td>\n",
              "      <td>AUD</td>\n",
              "      <td>AUD</td>\n",
              "      <td>AUD</td>\n",
              "    </tr>\n",
              "    <tr>\n",
              "      <th>long_lat</th>\n",
              "      <td>153.41 -27.95</td>\n",
              "      <td>153.41 -27.95</td>\n",
              "      <td>151.23 -33.94</td>\n",
              "      <td>153.10 -27.66</td>\n",
              "      <td>153.41 -27.95</td>\n",
              "    </tr>\n",
              "    <tr>\n",
              "      <th>txn_description</th>\n",
              "      <td>POS</td>\n",
              "      <td>SALES-POS</td>\n",
              "      <td>POS</td>\n",
              "      <td>SALES-POS</td>\n",
              "      <td>SALES-POS</td>\n",
              "    </tr>\n",
              "    <tr>\n",
              "      <th>merchant_id</th>\n",
              "      <td>81c48296-73be-44a7-befa-d053f48ce7cd</td>\n",
              "      <td>830a451c-316e-4a6a-bf25-e37caedca49e</td>\n",
              "      <td>835c231d-8cdf-4e96-859d-e9d571760cf0</td>\n",
              "      <td>48514682-c78a-4a88-b0da-2d6302e64673</td>\n",
              "      <td>b4e02c10-0852-4273-b8fd-7b3395e32eb0</td>\n",
              "    </tr>\n",
              "    <tr>\n",
              "      <th>merchant_code</th>\n",
              "      <td>NaN</td>\n",
              "      <td>NaN</td>\n",
              "      <td>NaN</td>\n",
              "      <td>NaN</td>\n",
              "      <td>NaN</td>\n",
              "    </tr>\n",
              "    <tr>\n",
              "      <th>first_name</th>\n",
              "      <td>Diana</td>\n",
              "      <td>Diana</td>\n",
              "      <td>Michael</td>\n",
              "      <td>Rhonda</td>\n",
              "      <td>Diana</td>\n",
              "    </tr>\n",
              "    <tr>\n",
              "      <th>balance</th>\n",
              "      <td>35.39</td>\n",
              "      <td>21.2</td>\n",
              "      <td>5.71</td>\n",
              "      <td>2117.22</td>\n",
              "      <td>17.95</td>\n",
              "    </tr>\n",
              "    <tr>\n",
              "      <th>date</th>\n",
              "      <td>2018-08-01 00:00:00</td>\n",
              "      <td>2018-08-01 00:00:00</td>\n",
              "      <td>2018-08-01 00:00:00</td>\n",
              "      <td>2018-08-01 00:00:00</td>\n",
              "      <td>2018-08-01 00:00:00</td>\n",
              "    </tr>\n",
              "    <tr>\n",
              "      <th>gender</th>\n",
              "      <td>F</td>\n",
              "      <td>F</td>\n",
              "      <td>M</td>\n",
              "      <td>F</td>\n",
              "      <td>F</td>\n",
              "    </tr>\n",
              "    <tr>\n",
              "      <th>age</th>\n",
              "      <td>26</td>\n",
              "      <td>26</td>\n",
              "      <td>38</td>\n",
              "      <td>40</td>\n",
              "      <td>26</td>\n",
              "    </tr>\n",
              "    <tr>\n",
              "      <th>merchant_suburb</th>\n",
              "      <td>Ashmore</td>\n",
              "      <td>Sydney</td>\n",
              "      <td>Sydney</td>\n",
              "      <td>Buderim</td>\n",
              "      <td>Mermaid Beach</td>\n",
              "    </tr>\n",
              "    <tr>\n",
              "      <th>merchant_state</th>\n",
              "      <td>QLD</td>\n",
              "      <td>NSW</td>\n",
              "      <td>NSW</td>\n",
              "      <td>QLD</td>\n",
              "      <td>QLD</td>\n",
              "    </tr>\n",
              "    <tr>\n",
              "      <th>extraction</th>\n",
              "      <td>2018-08-01T01:01:15.000+0000</td>\n",
              "      <td>2018-08-01T01:13:45.000+0000</td>\n",
              "      <td>2018-08-01T01:26:15.000+0000</td>\n",
              "      <td>2018-08-01T01:38:45.000+0000</td>\n",
              "      <td>2018-08-01T01:51:15.000+0000</td>\n",
              "    </tr>\n",
              "    <tr>\n",
              "      <th>amount</th>\n",
              "      <td>16.25</td>\n",
              "      <td>14.19</td>\n",
              "      <td>6.42</td>\n",
              "      <td>40.9</td>\n",
              "      <td>3.25</td>\n",
              "    </tr>\n",
              "    <tr>\n",
              "      <th>transaction_id</th>\n",
              "      <td>a623070bfead4541a6b0fff8a09e706c</td>\n",
              "      <td>13270a2a902145da9db4c951e04b51b9</td>\n",
              "      <td>feb79e7ecd7048a5a36ec889d1a94270</td>\n",
              "      <td>2698170da3704fd981b15e64a006079e</td>\n",
              "      <td>329adf79878c4cf0aeb4188b4691c266</td>\n",
              "    </tr>\n",
              "    <tr>\n",
              "      <th>country</th>\n",
              "      <td>Australia</td>\n",
              "      <td>Australia</td>\n",
              "      <td>Australia</td>\n",
              "      <td>Australia</td>\n",
              "      <td>Australia</td>\n",
              "    </tr>\n",
              "    <tr>\n",
              "      <th>customer_id</th>\n",
              "      <td>CUS-2487424745</td>\n",
              "      <td>CUS-2487424745</td>\n",
              "      <td>CUS-2142601169</td>\n",
              "      <td>CUS-1614226872</td>\n",
              "      <td>CUS-2487424745</td>\n",
              "    </tr>\n",
              "    <tr>\n",
              "      <th>merchant_long_lat</th>\n",
              "      <td>153.38 -27.99</td>\n",
              "      <td>151.21 -33.87</td>\n",
              "      <td>151.21 -33.87</td>\n",
              "      <td>153.05 -26.68</td>\n",
              "      <td>153.44 -28.06</td>\n",
              "    </tr>\n",
              "    <tr>\n",
              "      <th>movement</th>\n",
              "      <td>debit</td>\n",
              "      <td>debit</td>\n",
              "      <td>debit</td>\n",
              "      <td>debit</td>\n",
              "      <td>debit</td>\n",
              "    </tr>\n",
              "    <tr>\n",
              "      <th>balance_left</th>\n",
              "      <td>19.14</td>\n",
              "      <td>7.01</td>\n",
              "      <td>-0.71</td>\n",
              "      <td>2076.32</td>\n",
              "      <td>14.7</td>\n",
              "    </tr>\n",
              "  </tbody>\n",
              "</table>\n",
              "</div>"
            ],
            "text/plain": [
              "                                                      0  ...                                     4\n",
              "status                                       authorized  ...                            authorized\n",
              "card_present_flag                                     1  ...                                     1\n",
              "bpay_biller_code                                    NaN  ...                                   NaN\n",
              "account                                  ACC-1598451071  ...                        ACC-1598451071\n",
              "currency                                            AUD  ...                                   AUD\n",
              "long_lat                                  153.41 -27.95  ...                         153.41 -27.95\n",
              "txn_description                                     POS  ...                             SALES-POS\n",
              "merchant_id        81c48296-73be-44a7-befa-d053f48ce7cd  ...  b4e02c10-0852-4273-b8fd-7b3395e32eb0\n",
              "merchant_code                                       NaN  ...                                   NaN\n",
              "first_name                                        Diana  ...                                 Diana\n",
              "balance                                           35.39  ...                                 17.95\n",
              "date                                2018-08-01 00:00:00  ...                   2018-08-01 00:00:00\n",
              "gender                                                F  ...                                     F\n",
              "age                                                  26  ...                                    26\n",
              "merchant_suburb                                 Ashmore  ...                         Mermaid Beach\n",
              "merchant_state                                      QLD  ...                                   QLD\n",
              "extraction                 2018-08-01T01:01:15.000+0000  ...          2018-08-01T01:51:15.000+0000\n",
              "amount                                            16.25  ...                                  3.25\n",
              "transaction_id         a623070bfead4541a6b0fff8a09e706c  ...      329adf79878c4cf0aeb4188b4691c266\n",
              "country                                       Australia  ...                             Australia\n",
              "customer_id                              CUS-2487424745  ...                        CUS-2487424745\n",
              "merchant_long_lat                         153.38 -27.99  ...                         153.44 -28.06\n",
              "movement                                          debit  ...                                 debit\n",
              "balance_left                                      19.14  ...                                  14.7\n",
              "\n",
              "[24 rows x 5 columns]"
            ]
          },
          "metadata": {
            "tags": []
          },
          "execution_count": 531
        }
      ]
    },
    {
      "cell_type": "code",
      "metadata": {
        "id": "iwxCQtsDGfU-",
        "colab_type": "code",
        "colab": {
          "base_uri": "https://localhost:8080/",
          "height": 442
        },
        "outputId": "adf1cef0-6570-4635-acd6-67764a504715"
      },
      "source": [
        "df = df.drop_duplicates()\n",
        "\n",
        "df.dtypes"
      ],
      "execution_count": null,
      "outputs": [
        {
          "output_type": "execute_result",
          "data": {
            "text/plain": [
              "status                       object\n",
              "card_present_flag           float64\n",
              "bpay_biller_code             object\n",
              "account                      object\n",
              "currency                     object\n",
              "long_lat                     object\n",
              "txn_description              object\n",
              "merchant_id                  object\n",
              "merchant_code               float64\n",
              "first_name                   object\n",
              "balance                     float64\n",
              "date                 datetime64[ns]\n",
              "gender                       object\n",
              "age                           int64\n",
              "merchant_suburb              object\n",
              "merchant_state               object\n",
              "extraction                   object\n",
              "amount                      float64\n",
              "transaction_id               object\n",
              "country                      object\n",
              "customer_id                  object\n",
              "merchant_long_lat            object\n",
              "movement                     object\n",
              "balance_left                float64\n",
              "dtype: object"
            ]
          },
          "metadata": {
            "tags": []
          },
          "execution_count": 532
        }
      ]
    },
    {
      "cell_type": "code",
      "metadata": {
        "id": "nqan55sHCX88",
        "colab_type": "code",
        "colab": {
          "base_uri": "https://localhost:8080/",
          "height": 297
        },
        "outputId": "0c4373d7-7bf4-4f5f-d62c-4d24f16f5d8a"
      },
      "source": [
        "df.describe()"
      ],
      "execution_count": null,
      "outputs": [
        {
          "output_type": "execute_result",
          "data": {
            "text/html": [
              "<div>\n",
              "<style scoped>\n",
              "    .dataframe tbody tr th:only-of-type {\n",
              "        vertical-align: middle;\n",
              "    }\n",
              "\n",
              "    .dataframe tbody tr th {\n",
              "        vertical-align: top;\n",
              "    }\n",
              "\n",
              "    .dataframe thead th {\n",
              "        text-align: right;\n",
              "    }\n",
              "</style>\n",
              "<table border=\"1\" class=\"dataframe\">\n",
              "  <thead>\n",
              "    <tr style=\"text-align: right;\">\n",
              "      <th></th>\n",
              "      <th>card_present_flag</th>\n",
              "      <th>merchant_code</th>\n",
              "      <th>balance</th>\n",
              "      <th>age</th>\n",
              "      <th>amount</th>\n",
              "      <th>balance_left</th>\n",
              "    </tr>\n",
              "  </thead>\n",
              "  <tbody>\n",
              "    <tr>\n",
              "      <th>count</th>\n",
              "      <td>7717.000000</td>\n",
              "      <td>883.0</td>\n",
              "      <td>12043.000000</td>\n",
              "      <td>12043.000000</td>\n",
              "      <td>12043.000000</td>\n",
              "      <td>12043.000000</td>\n",
              "    </tr>\n",
              "    <tr>\n",
              "      <th>mean</th>\n",
              "      <td>0.802644</td>\n",
              "      <td>0.0</td>\n",
              "      <td>14704.195553</td>\n",
              "      <td>30.582330</td>\n",
              "      <td>187.933588</td>\n",
              "      <td>14794.693727</td>\n",
              "    </tr>\n",
              "    <tr>\n",
              "      <th>std</th>\n",
              "      <td>0.398029</td>\n",
              "      <td>0.0</td>\n",
              "      <td>31503.722652</td>\n",
              "      <td>10.046343</td>\n",
              "      <td>592.599934</td>\n",
              "      <td>31535.843039</td>\n",
              "    </tr>\n",
              "    <tr>\n",
              "      <th>min</th>\n",
              "      <td>0.000000</td>\n",
              "      <td>0.0</td>\n",
              "      <td>0.240000</td>\n",
              "      <td>18.000000</td>\n",
              "      <td>0.100000</td>\n",
              "      <td>-5017.950000</td>\n",
              "    </tr>\n",
              "    <tr>\n",
              "      <th>25%</th>\n",
              "      <td>1.000000</td>\n",
              "      <td>0.0</td>\n",
              "      <td>3158.585000</td>\n",
              "      <td>22.000000</td>\n",
              "      <td>16.000000</td>\n",
              "      <td>3172.975000</td>\n",
              "    </tr>\n",
              "    <tr>\n",
              "      <th>50%</th>\n",
              "      <td>1.000000</td>\n",
              "      <td>0.0</td>\n",
              "      <td>6432.010000</td>\n",
              "      <td>28.000000</td>\n",
              "      <td>29.000000</td>\n",
              "      <td>6511.540000</td>\n",
              "    </tr>\n",
              "    <tr>\n",
              "      <th>75%</th>\n",
              "      <td>1.000000</td>\n",
              "      <td>0.0</td>\n",
              "      <td>12465.945000</td>\n",
              "      <td>38.000000</td>\n",
              "      <td>53.655000</td>\n",
              "      <td>12887.760000</td>\n",
              "    </tr>\n",
              "    <tr>\n",
              "      <th>max</th>\n",
              "      <td>1.000000</td>\n",
              "      <td>0.0</td>\n",
              "      <td>267128.520000</td>\n",
              "      <td>78.000000</td>\n",
              "      <td>8835.980000</td>\n",
              "      <td>269308.480000</td>\n",
              "    </tr>\n",
              "  </tbody>\n",
              "</table>\n",
              "</div>"
            ],
            "text/plain": [
              "       card_present_flag  merchant_code  ...        amount   balance_left\n",
              "count        7717.000000          883.0  ...  12043.000000   12043.000000\n",
              "mean            0.802644            0.0  ...    187.933588   14794.693727\n",
              "std             0.398029            0.0  ...    592.599934   31535.843039\n",
              "min             0.000000            0.0  ...      0.100000   -5017.950000\n",
              "25%             1.000000            0.0  ...     16.000000    3172.975000\n",
              "50%             1.000000            0.0  ...     29.000000    6511.540000\n",
              "75%             1.000000            0.0  ...     53.655000   12887.760000\n",
              "max             1.000000            0.0  ...   8835.980000  269308.480000\n",
              "\n",
              "[8 rows x 6 columns]"
            ]
          },
          "metadata": {
            "tags": []
          },
          "execution_count": 533
        }
      ]
    },
    {
      "cell_type": "code",
      "metadata": {
        "id": "5nesNZVtCnJW",
        "colab_type": "code",
        "colab": {
          "base_uri": "https://localhost:8080/",
          "height": 261
        },
        "outputId": "13a9b58d-20a0-431f-e6f4-498870cd95f3"
      },
      "source": [
        "df[df['amount']>8000]"
      ],
      "execution_count": null,
      "outputs": [
        {
          "output_type": "execute_result",
          "data": {
            "text/html": [
              "<div>\n",
              "<style scoped>\n",
              "    .dataframe tbody tr th:only-of-type {\n",
              "        vertical-align: middle;\n",
              "    }\n",
              "\n",
              "    .dataframe tbody tr th {\n",
              "        vertical-align: top;\n",
              "    }\n",
              "\n",
              "    .dataframe thead th {\n",
              "        text-align: right;\n",
              "    }\n",
              "</style>\n",
              "<table border=\"1\" class=\"dataframe\">\n",
              "  <thead>\n",
              "    <tr style=\"text-align: right;\">\n",
              "      <th></th>\n",
              "      <th>status</th>\n",
              "      <th>card_present_flag</th>\n",
              "      <th>bpay_biller_code</th>\n",
              "      <th>account</th>\n",
              "      <th>currency</th>\n",
              "      <th>long_lat</th>\n",
              "      <th>txn_description</th>\n",
              "      <th>merchant_id</th>\n",
              "      <th>merchant_code</th>\n",
              "      <th>first_name</th>\n",
              "      <th>balance</th>\n",
              "      <th>date</th>\n",
              "      <th>gender</th>\n",
              "      <th>age</th>\n",
              "      <th>merchant_suburb</th>\n",
              "      <th>merchant_state</th>\n",
              "      <th>extraction</th>\n",
              "      <th>amount</th>\n",
              "      <th>transaction_id</th>\n",
              "      <th>country</th>\n",
              "      <th>customer_id</th>\n",
              "      <th>merchant_long_lat</th>\n",
              "      <th>movement</th>\n",
              "      <th>balance_left</th>\n",
              "    </tr>\n",
              "  </thead>\n",
              "  <tbody>\n",
              "    <tr>\n",
              "      <th>2401</th>\n",
              "      <td>posted</td>\n",
              "      <td>NaN</td>\n",
              "      <td>0</td>\n",
              "      <td>ACC-1523339231</td>\n",
              "      <td>AUD</td>\n",
              "      <td>115.83 -31.90</td>\n",
              "      <td>PAY/SALARY</td>\n",
              "      <td>NaN</td>\n",
              "      <td>0.0</td>\n",
              "      <td>Tim</td>\n",
              "      <td>62647.22</td>\n",
              "      <td>2018-08-20</td>\n",
              "      <td>M</td>\n",
              "      <td>40</td>\n",
              "      <td>NaN</td>\n",
              "      <td>NaN</td>\n",
              "      <td>2018-08-20T13:00:00.000+0000</td>\n",
              "      <td>8835.98</td>\n",
              "      <td>b608ce5142664a79af4fa071a886c8f7</td>\n",
              "      <td>Australia</td>\n",
              "      <td>CUS-1816693151</td>\n",
              "      <td>NaN</td>\n",
              "      <td>credit</td>\n",
              "      <td>71483.20</td>\n",
              "    </tr>\n",
              "    <tr>\n",
              "      <th>6529</th>\n",
              "      <td>posted</td>\n",
              "      <td>NaN</td>\n",
              "      <td>0</td>\n",
              "      <td>ACC-1523339231</td>\n",
              "      <td>AUD</td>\n",
              "      <td>115.83 -31.90</td>\n",
              "      <td>PAY/SALARY</td>\n",
              "      <td>NaN</td>\n",
              "      <td>0.0</td>\n",
              "      <td>Tim</td>\n",
              "      <td>70242.78</td>\n",
              "      <td>2018-09-20</td>\n",
              "      <td>M</td>\n",
              "      <td>40</td>\n",
              "      <td>NaN</td>\n",
              "      <td>NaN</td>\n",
              "      <td>2018-09-20T13:00:00.000+0000</td>\n",
              "      <td>8835.98</td>\n",
              "      <td>854ded55d0034ac8b9e91e16334768ca</td>\n",
              "      <td>Australia</td>\n",
              "      <td>CUS-1816693151</td>\n",
              "      <td>NaN</td>\n",
              "      <td>credit</td>\n",
              "      <td>79078.76</td>\n",
              "    </tr>\n",
              "    <tr>\n",
              "      <th>10429</th>\n",
              "      <td>posted</td>\n",
              "      <td>NaN</td>\n",
              "      <td>0</td>\n",
              "      <td>ACC-1523339231</td>\n",
              "      <td>AUD</td>\n",
              "      <td>115.83 -31.90</td>\n",
              "      <td>PAY/SALARY</td>\n",
              "      <td>NaN</td>\n",
              "      <td>0.0</td>\n",
              "      <td>Tim</td>\n",
              "      <td>77054.31</td>\n",
              "      <td>2018-10-19</td>\n",
              "      <td>M</td>\n",
              "      <td>40</td>\n",
              "      <td>NaN</td>\n",
              "      <td>NaN</td>\n",
              "      <td>2018-10-19T13:00:00.000+0000</td>\n",
              "      <td>8835.98</td>\n",
              "      <td>873a3f11d03d41a99c55a5b1a3850e1a</td>\n",
              "      <td>Australia</td>\n",
              "      <td>CUS-1816693151</td>\n",
              "      <td>NaN</td>\n",
              "      <td>credit</td>\n",
              "      <td>85890.29</td>\n",
              "    </tr>\n",
              "    <tr>\n",
              "      <th>10430</th>\n",
              "      <td>posted</td>\n",
              "      <td>NaN</td>\n",
              "      <td>0</td>\n",
              "      <td>ACC-1523339231</td>\n",
              "      <td>AUD</td>\n",
              "      <td>115.83 -31.90</td>\n",
              "      <td>PAY/SALARY</td>\n",
              "      <td>NaN</td>\n",
              "      <td>0.0</td>\n",
              "      <td>Tim</td>\n",
              "      <td>85890.29</td>\n",
              "      <td>2018-10-19</td>\n",
              "      <td>M</td>\n",
              "      <td>40</td>\n",
              "      <td>NaN</td>\n",
              "      <td>NaN</td>\n",
              "      <td>2018-10-19T13:00:00.000+0000</td>\n",
              "      <td>8835.98</td>\n",
              "      <td>d996300131a641c8bf25f86e1aef9bc6</td>\n",
              "      <td>Australia</td>\n",
              "      <td>CUS-1816693151</td>\n",
              "      <td>NaN</td>\n",
              "      <td>credit</td>\n",
              "      <td>94726.27</td>\n",
              "    </tr>\n",
              "  </tbody>\n",
              "</table>\n",
              "</div>"
            ],
            "text/plain": [
              "       status  card_present_flag  ... movement balance_left\n",
              "2401   posted                NaN  ...   credit     71483.20\n",
              "6529   posted                NaN  ...   credit     79078.76\n",
              "10429  posted                NaN  ...   credit     85890.29\n",
              "10430  posted                NaN  ...   credit     94726.27\n",
              "\n",
              "[4 rows x 24 columns]"
            ]
          },
          "metadata": {
            "tags": []
          },
          "execution_count": 534
        }
      ]
    },
    {
      "cell_type": "code",
      "metadata": {
        "id": "bQ_5ZHHvHRrW",
        "colab_type": "code",
        "colab": {
          "base_uri": "https://localhost:8080/",
          "height": 296
        },
        "outputId": "3dbdadc7-2f89-4499-9c1e-712dab5ca89e"
      },
      "source": [
        "sns.countplot(df.movement)"
      ],
      "execution_count": null,
      "outputs": [
        {
          "output_type": "execute_result",
          "data": {
            "text/plain": [
              "<matplotlib.axes._subplots.AxesSubplot at 0x7ff592d29748>"
            ]
          },
          "metadata": {
            "tags": []
          },
          "execution_count": 535
        },
        {
          "output_type": "display_data",
          "data": {
            "image/png": "[encoded data removed]",
            "text/plain": [
              "<Figure size 432x288 with 1 Axes>"
            ]
          },
          "metadata": {
            "tags": [],
            "needs_background": "light"
          }
        }
      ]
    },
    {
      "cell_type": "code",
      "metadata": {
        "id": "0CJtkiTtIqbL",
        "colab_type": "code",
        "colab": {
          "base_uri": "https://localhost:8080/",
          "height": 298
        },
        "outputId": "b972bd6e-a156-4a16-d8ca-ec1d01c960b7"
      },
      "source": [
        "sns.countplot(df.status)"
      ],
      "execution_count": null,
      "outputs": [
        {
          "output_type": "execute_result",
          "data": {
            "text/plain": [
              "<matplotlib.axes._subplots.AxesSubplot at 0x7ff5922c5860>"
            ]
          },
          "metadata": {
            "tags": []
          },
          "execution_count": 536
        },
        {
          "output_type": "display_data",
          "data": {
            "image/png": "[encoded data removed]",
            "text/plain": [
              "<Figure size 432x288 with 1 Axes>"
            ]
          },
          "metadata": {
            "tags": [],
            "needs_background": "light"
          }
        }
      ]
    },
    {
      "cell_type": "code",
      "metadata": {
        "id": "afvzbo3vHdvn",
        "colab_type": "code",
        "colab": {
          "base_uri": "https://localhost:8080/",
          "height": 296
        },
        "outputId": "7bc0ae09-ec1f-4926-b9bd-cb3328362cba"
      },
      "source": [
        "sns.countplot(df.gender)"
      ],
      "execution_count": null,
      "outputs": [
        {
          "output_type": "execute_result",
          "data": {
            "text/plain": [
              "<matplotlib.axes._subplots.AxesSubplot at 0x7ff591f50550>"
            ]
          },
          "metadata": {
            "tags": []
          },
          "execution_count": 537
        },
        {
          "output_type": "display_data",
          "data": {
            "image/png": "[encoded data removed]",
            "text/plain": [
              "<Figure size 432x288 with 1 Axes>"
            ]
          },
          "metadata": {
            "tags": [],
            "needs_background": "light"
          }
        }
      ]
    },
    {
      "cell_type": "code",
      "metadata": {
        "id": "sKA9MBTbHlWI",
        "colab_type": "code",
        "colab": {
          "base_uri": "https://localhost:8080/",
          "height": 265
        },
        "outputId": "f25f63ae-34ba-432f-9bc3-125de756da53"
      },
      "source": [
        "plt.hist(df.age, bins =40)\n",
        "plt.show()"
      ],
      "execution_count": null,
      "outputs": [
        {
          "output_type": "display_data",
          "data": {
            "image/png": "[encoded data removed]",
            "text/plain": [
              "<Figure size 432x288 with 1 Axes>"
            ]
          },
          "metadata": {
            "tags": [],
            "needs_background": "light"
          }
        }
      ]
    },
    {
      "cell_type": "code",
      "metadata": {
        "id": "0oilQQ73HsdY",
        "colab_type": "code",
        "colab": {
          "base_uri": "https://localhost:8080/",
          "height": 297
        },
        "outputId": "26550aec-1452-48cf-e166-657ffc585f20"
      },
      "source": [
        "sns.countplot(df.merchant_state)"
      ],
      "execution_count": null,
      "outputs": [
        {
          "output_type": "execute_result",
          "data": {
            "text/plain": [
              "<matplotlib.axes._subplots.AxesSubplot at 0x7ff592260a20>"
            ]
          },
          "metadata": {
            "tags": []
          },
          "execution_count": 539
        },
        {
          "output_type": "display_data",
          "data": {
            "image/png": "[encoded data removed]",
            "text/plain": [
              "<Figure size 432x288 with 1 Axes>"
            ]
          },
          "metadata": {
            "tags": [],
            "needs_background": "light"
          }
        }
      ]
    },
    {
      "cell_type": "code",
      "metadata": {
        "id": "3sR8QFbnID0g",
        "colab_type": "code",
        "colab": {
          "base_uri": "https://localhost:8080/",
          "height": 296
        },
        "outputId": "2cfacce8-5528-42f0-aa4f-3ab91469e289"
      },
      "source": [
        "sns.countplot(df.country)"
      ],
      "execution_count": null,
      "outputs": [
        {
          "output_type": "execute_result",
          "data": {
            "text/plain": [
              "<matplotlib.axes._subplots.AxesSubplot at 0x7ff592216e80>"
            ]
          },
          "metadata": {
            "tags": []
          },
          "execution_count": 540
        },
        {
          "output_type": "display_data",
          "data": {
            "image/png": "[encoded data removed]",
            "text/plain": [
              "<Figure size 432x288 with 1 Axes>"
            ]
          },
          "metadata": {
            "tags": [],
            "needs_background": "light"
          }
        }
      ]
    },
    {
      "cell_type": "code",
      "metadata": {
        "id": "5t8daqvaJ8Kl",
        "colab_type": "code",
        "colab": {
          "base_uri": "https://localhost:8080/",
          "height": 296
        },
        "outputId": "9ff69574-ce27-465a-90e2-9ceeefacca04"
      },
      "source": [
        "sns.countplot(df.currency)"
      ],
      "execution_count": null,
      "outputs": [
        {
          "output_type": "execute_result",
          "data": {
            "text/plain": [
              "<matplotlib.axes._subplots.AxesSubplot at 0x7ff5921d5908>"
            ]
          },
          "metadata": {
            "tags": []
          },
          "execution_count": 541
        },
        {
          "output_type": "display_data",
          "data": {
            "image/png": "[encoded data removed]",
            "text/plain": [
              "<Figure size 432x288 with 1 Axes>"
            ]
          },
          "metadata": {
            "tags": [],
            "needs_background": "light"
          }
        }
      ]
    },
    {
      "cell_type": "code",
      "metadata": {
        "id": "9s_bGKJdIVfo",
        "colab_type": "code",
        "colab": {
          "base_uri": "https://localhost:8080/",
          "height": 265
        },
        "outputId": "664e762f-6dd9-46be-81ff-e99505524870"
      },
      "source": [
        "plt.hist(df.amount, bins = 5, density =True, label = df.movement)\n",
        "plt.legend()\n",
        "plt.show()"
      ],
      "execution_count": null,
      "outputs": [
        {
          "output_type": "display_data",
          "data": {
            "image/png": "[encoded data removed]",
            "text/plain": [
              "<Figure size 432x288 with 1 Axes>"
            ]
          },
          "metadata": {
            "tags": [],
            "needs_background": "light"
          }
        }
      ]
    },
    {
      "cell_type": "code",
      "metadata": {
        "id": "cM9mvM3JFOIr",
        "colab_type": "code",
        "colab": {
          "base_uri": "https://localhost:8080/",
          "height": 265
        },
        "outputId": "bc7f65e1-90b0-4f4c-fef0-444d25970684"
      },
      "source": [
        "plt.hist(df[df['movement'] == 'credit']['amount'], bins = 5, density =True, label = df[df['movement'] == 'credit']['movement'])\n",
        "plt.legend()\n",
        "plt.show()"
      ],
      "execution_count": null,
      "outputs": [
        {
          "output_type": "display_data",
          "data": {
            "image/png": "[encoded data removed]",
            "text/plain": [
              "<Figure size 432x288 with 1 Axes>"
            ]
          },
          "metadata": {
            "tags": [],
            "needs_background": "light"
          }
        }
      ]
    },
    {
      "cell_type": "code",
      "metadata": {
        "id": "45CW_K-nF3iR",
        "colab_type": "code",
        "colab": {
          "base_uri": "https://localhost:8080/",
          "height": 34
        },
        "outputId": "fbecfda7-da83-4cf7-9897-e30dc8075805"
      },
      "source": [
        "df.amount.quantile(0.99)"
      ],
      "execution_count": null,
      "outputs": [
        {
          "output_type": "execute_result",
          "data": {
            "text/plain": [
              "3195.01"
            ]
          },
          "metadata": {
            "tags": []
          },
          "execution_count": 544
        }
      ]
    },
    {
      "cell_type": "code",
      "metadata": {
        "id": "sTF7nUdHJe-_",
        "colab_type": "code",
        "colab": {
          "base_uri": "https://localhost:8080/",
          "height": 267
        },
        "outputId": "401c74bb-140d-4375-8fea-795e86e0301a"
      },
      "source": [
        "plt.hist(df.balance, bins =30)\n",
        "plt.show()"
      ],
      "execution_count": null,
      "outputs": [
        {
          "output_type": "display_data",
          "data": {
            "image/png": "[encoded data removed]",
            "text/plain": [
              "<Figure size 432x288 with 1 Axes>"
            ]
          },
          "metadata": {
            "tags": [],
            "needs_background": "light"
          }
        }
      ]
    },
    {
      "cell_type": "code",
      "metadata": {
        "id": "-ZP4Lal7Ue8r",
        "colab_type": "code",
        "colab": {
          "base_uri": "https://localhost:8080/",
          "height": 265
        },
        "outputId": "3ce58f44-c8c7-4add-8108-f6c72c9e94a4"
      },
      "source": [
        "plt.hist(df.balance_left, bins =30)\n",
        "plt.show()"
      ],
      "execution_count": null,
      "outputs": [
        {
          "output_type": "display_data",
          "data": {
            "image/png": "[encoded data removed]",
            "text/plain": [
              "<Figure size 432x288 with 1 Axes>"
            ]
          },
          "metadata": {
            "tags": [],
            "needs_background": "light"
          }
        }
      ]
    },
    {
      "cell_type": "code",
      "metadata": {
        "id": "bw8Hpzo_Jwk7",
        "colab_type": "code",
        "colab": {
          "base_uri": "https://localhost:8080/",
          "height": 544
        },
        "outputId": "cbb35f2a-3e89-42f7-9c7c-519be72c93f6"
      },
      "source": [
        "df.info()"
      ],
      "execution_count": null,
      "outputs": [
        {
          "output_type": "stream",
          "text": [
            "<class 'pandas.core.frame.DataFrame'>\n",
            "Int64Index: 12043 entries, 0 to 12042\n",
            "Data columns (total 24 columns):\n",
            " #   Column             Non-Null Count  Dtype         \n",
            "---  ------             --------------  -----         \n",
            " 0   status             12043 non-null  object        \n",
            " 1   card_present_flag  7717 non-null   float64       \n",
            " 2   bpay_biller_code   885 non-null    object        \n",
            " 3   account            12043 non-null  object        \n",
            " 4   currency           12043 non-null  object        \n",
            " 5   long_lat           12043 non-null  object        \n",
            " 6   txn_description    12043 non-null  object        \n",
            " 7   merchant_id        7717 non-null   object        \n",
            " 8   merchant_code      883 non-null    float64       \n",
            " 9   first_name         12043 non-null  object        \n",
            " 10  balance            12043 non-null  float64       \n",
            " 11  date               12043 non-null  datetime64[ns]\n",
            " 12  gender             12043 non-null  object        \n",
            " 13  age                12043 non-null  int64         \n",
            " 14  merchant_suburb    7717 non-null   object        \n",
            " 15  merchant_state     7717 non-null   object        \n",
            " 16  extraction         12043 non-null  object        \n",
            " 17  amount             12043 non-null  float64       \n",
            " 18  transaction_id     12043 non-null  object        \n",
            " 19  country            12043 non-null  object        \n",
            " 20  customer_id        12043 non-null  object        \n",
            " 21  merchant_long_lat  7717 non-null   object        \n",
            " 22  movement           12043 non-null  object        \n",
            " 23  balance_left       12043 non-null  float64       \n",
            "dtypes: datetime64[ns](1), float64(5), int64(1), object(17)\n",
            "memory usage: 2.6+ MB\n"
          ],
          "name": "stdout"
        }
      ]
    },
    {
      "cell_type": "code",
      "metadata": {
        "id": "SzkUAxz9KhUw",
        "colab_type": "code",
        "colab": {
          "base_uri": "https://localhost:8080/",
          "height": 34
        },
        "outputId": "fc728d03-fd80-48d4-cfbc-fa7caf241b61"
      },
      "source": [
        "df.customer_id.nunique()"
      ],
      "execution_count": null,
      "outputs": [
        {
          "output_type": "execute_result",
          "data": {
            "text/plain": [
              "100"
            ]
          },
          "metadata": {
            "tags": []
          },
          "execution_count": 548
        }
      ]
    },
    {
      "cell_type": "code",
      "metadata": {
        "id": "DriS2iDdLdnz",
        "colab_type": "code",
        "colab": {
          "base_uri": "https://localhost:8080/",
          "height": 34
        },
        "outputId": "5208c28a-d87c-4f3b-99eb-56d7401f2cad"
      },
      "source": [
        "#timedelta(df.date.min(), df.date.max())\n",
        "total_time = df.date.max() - df.date.min()\n",
        "total_time"
      ],
      "execution_count": null,
      "outputs": [
        {
          "output_type": "execute_result",
          "data": {
            "text/plain": [
              "Timedelta('91 days 00:00:00')"
            ]
          },
          "metadata": {
            "tags": []
          },
          "execution_count": 549
        }
      ]
    },
    {
      "cell_type": "code",
      "metadata": {
        "id": "zBxc5v9mLwBB",
        "colab_type": "code",
        "colab": {
          "base_uri": "https://localhost:8080/",
          "height": 34
        },
        "outputId": "f4a984e7-1719-4e83-f4ce-811289e1bed5"
      },
      "source": [
        "df.merchant_id.nunique()"
      ],
      "execution_count": null,
      "outputs": [
        {
          "output_type": "execute_result",
          "data": {
            "text/plain": [
              "5725"
            ]
          },
          "metadata": {
            "tags": []
          },
          "execution_count": 550
        }
      ]
    },
    {
      "cell_type": "code",
      "metadata": {
        "id": "QEOqWQBsMN5X",
        "colab_type": "code",
        "colab": {
          "base_uri": "https://localhost:8080/",
          "height": 34
        },
        "outputId": "ddf5c328-b03b-45af-8b7d-cc879c448978"
      },
      "source": [
        "df.txn_description.nunique()"
      ],
      "execution_count": null,
      "outputs": [
        {
          "output_type": "execute_result",
          "data": {
            "text/plain": [
              "6"
            ]
          },
          "metadata": {
            "tags": []
          },
          "execution_count": 551
        }
      ]
    },
    {
      "cell_type": "code",
      "metadata": {
        "id": "mKSI1CwcMbsr",
        "colab_type": "code",
        "colab": {
          "base_uri": "https://localhost:8080/",
          "height": 442
        },
        "outputId": "82daced2-a15b-48cf-a079-d58344aab38e"
      },
      "source": [
        "df.nunique()"
      ],
      "execution_count": null,
      "outputs": [
        {
          "output_type": "execute_result",
          "data": {
            "text/plain": [
              "status                   2\n",
              "card_present_flag        2\n",
              "bpay_biller_code         3\n",
              "account                100\n",
              "currency                 1\n",
              "long_lat               100\n",
              "txn_description          6\n",
              "merchant_id           5725\n",
              "merchant_code            1\n",
              "first_name              80\n",
              "balance              12006\n",
              "date                    91\n",
              "gender                   2\n",
              "age                     33\n",
              "merchant_suburb       1609\n",
              "merchant_state           8\n",
              "extraction            9442\n",
              "amount                4457\n",
              "transaction_id       12043\n",
              "country                  1\n",
              "customer_id            100\n",
              "merchant_long_lat     2703\n",
              "movement                 2\n",
              "balance_left         12001\n",
              "dtype: int64"
            ]
          },
          "metadata": {
            "tags": []
          },
          "execution_count": 552
        }
      ]
    },
    {
      "cell_type": "code",
      "metadata": {
        "id": "bSGwzgQZiwCx",
        "colab_type": "code",
        "colab": {
          "base_uri": "https://localhost:8080/",
          "height": 68
        },
        "outputId": "a04835bd-a54c-41a6-d81c-2787437de8eb"
      },
      "source": [
        "df['month'] = pd.DatetimeIndex(df.date).month\n",
        "df['time'] = pd.DatetimeIndex(df.date).time\n",
        "df['movement'].value_counts(normalize  = True)"
      ],
      "execution_count": null,
      "outputs": [
        {
          "output_type": "execute_result",
          "data": {
            "text/plain": [
              "debit     0.926679\n",
              "credit    0.073321\n",
              "Name: movement, dtype: float64"
            ]
          },
          "metadata": {
            "tags": []
          },
          "execution_count": 553
        }
      ]
    },
    {
      "cell_type": "code",
      "metadata": {
        "id": "7fU9loVNkuc7",
        "colab_type": "code",
        "colab": {
          "base_uri": "https://localhost:8080/",
          "height": 111
        },
        "outputId": "8aeac558-1a6a-4442-edb0-a80623863e40"
      },
      "source": [
        "cal = df.groupby(['movement'])['amount'].agg([sum, np.mean])\n",
        "cal = cal.reset_index()\n",
        "cal"
      ],
      "execution_count": null,
      "outputs": [
        {
          "output_type": "execute_result",
          "data": {
            "text/html": [
              "<div>\n",
              "<style scoped>\n",
              "    .dataframe tbody tr th:only-of-type {\n",
              "        vertical-align: middle;\n",
              "    }\n",
              "\n",
              "    .dataframe tbody tr th {\n",
              "        vertical-align: top;\n",
              "    }\n",
              "\n",
              "    .dataframe thead th {\n",
              "        text-align: right;\n",
              "    }\n",
              "</style>\n",
              "<table border=\"1\" class=\"dataframe\">\n",
              "  <thead>\n",
              "    <tr style=\"text-align: right;\">\n",
              "      <th></th>\n",
              "      <th>movement</th>\n",
              "      <th>sum</th>\n",
              "      <th>mean</th>\n",
              "    </tr>\n",
              "  </thead>\n",
              "  <tbody>\n",
              "    <tr>\n",
              "      <th>0</th>\n",
              "      <td>credit</td>\n",
              "      <td>1676576.85</td>\n",
              "      <td>1898.728029</td>\n",
              "    </tr>\n",
              "    <tr>\n",
              "      <th>1</th>\n",
              "      <td>debit</td>\n",
              "      <td>586707.35</td>\n",
              "      <td>52.572343</td>\n",
              "    </tr>\n",
              "  </tbody>\n",
              "</table>\n",
              "</div>"
            ],
            "text/plain": [
              "  movement         sum         mean\n",
              "0   credit  1676576.85  1898.728029\n",
              "1    debit   586707.35    52.572343"
            ]
          },
          "metadata": {
            "tags": []
          },
          "execution_count": 554
        }
      ]
    },
    {
      "cell_type": "code",
      "metadata": {
        "id": "Tfy-6xXh9YiC",
        "colab_type": "code",
        "colab": {
          "base_uri": "https://localhost:8080/",
          "height": 34
        },
        "outputId": "c5dfe7bf-0435-4baf-aaef-c294c40f8baa"
      },
      "source": [
        "gain = cal['sum'][0] + cal['sum'][1]\n",
        "gain/91"
      ],
      "execution_count": null,
      "outputs": [
        {
          "output_type": "execute_result",
          "data": {
            "text/plain": [
              "24871.254945054912"
            ]
          },
          "metadata": {
            "tags": []
          },
          "execution_count": 555
        }
      ]
    },
    {
      "cell_type": "code",
      "metadata": {
        "id": "-PQZr7HUvD3y",
        "colab_type": "code",
        "colab": {
          "base_uri": "https://localhost:8080/",
          "height": 187
        },
        "outputId": "d770ee41-6338-46ae-fd47-340007ddbfa9"
      },
      "source": [
        "loc = df.groupby('merchant_state')['amount'].agg(sum)\n",
        "loc.sort_values()"
      ],
      "execution_count": null,
      "outputs": [
        {
          "output_type": "execute_result",
          "data": {
            "text/plain": [
              "merchant_state\n",
              "TAS      1962.93\n",
              "ACT      4876.68\n",
              "NT       9168.89\n",
              "SA      16776.57\n",
              "WA      33992.06\n",
              "QLD     53483.45\n",
              "VIC     87584.00\n",
              "NSW    102021.77\n",
              "Name: amount, dtype: float64"
            ]
          },
          "metadata": {
            "tags": []
          },
          "execution_count": 556
        }
      ]
    },
    {
      "cell_type": "code",
      "metadata": {
        "id": "pyUG7uTtyTfj",
        "colab_type": "code",
        "colab": {}
      },
      "source": [
        "df1 = df.groupby('date')['amount'].agg(sum)"
      ],
      "execution_count": null,
      "outputs": []
    },
    {
      "cell_type": "code",
      "metadata": {
        "id": "QX1zfRtv2EQU",
        "colab_type": "code",
        "colab": {
          "base_uri": "https://localhost:8080/",
          "height": 282
        },
        "outputId": "20c4d79a-2e53-4911-bfc9-072ab3790c85"
      },
      "source": [
        "plt.plot(df1)"
      ],
      "execution_count": null,
      "outputs": [
        {
          "output_type": "execute_result",
          "data": {
            "text/plain": [
              "[<matplotlib.lines.Line2D at 0x7ff591fe2828>]"
            ]
          },
          "metadata": {
            "tags": []
          },
          "execution_count": 558
        },
        {
          "output_type": "display_data",
          "data": {
            "image/png": "[encoded data removed]",
            "text/plain": [
              "<Figure size 432x288 with 1 Axes>"
            ]
          },
          "metadata": {
            "tags": [],
            "needs_background": "light"
          }
        }
      ]
    },
    {
      "cell_type": "code",
      "metadata": {
        "id": "tTgWnIK924st",
        "colab_type": "code",
        "colab": {
          "base_uri": "https://localhost:8080/",
          "height": 34
        },
        "outputId": "1a8cd985-bc88-458c-a2f2-e4fcf6e296f2"
      },
      "source": [
        "df.shape"
      ],
      "execution_count": null,
      "outputs": [
        {
          "output_type": "execute_result",
          "data": {
            "text/plain": [
              "(12043, 26)"
            ]
          },
          "metadata": {
            "tags": []
          },
          "execution_count": 559
        }
      ]
    },
    {
      "cell_type": "code",
      "metadata": {
        "id": "BIeguV_18ELS",
        "colab_type": "code",
        "colab": {
          "base_uri": "https://localhost:8080/",
          "height": 34
        },
        "outputId": "83c67807-a695-4702-f6fa-e128e861f3ec"
      },
      "source": [
        "debit = df[df['movement'] == 'debit']\n",
        "credit = df[df['movement'] == 'credit']\n",
        "print(debit.shape + credit.shape)"
      ],
      "execution_count": null,
      "outputs": [
        {
          "output_type": "stream",
          "text": [
            "(11160, 26, 883, 26)\n"
          ],
          "name": "stdout"
        }
      ]
    },
    {
      "cell_type": "code",
      "metadata": {
        "id": "L2RhGK9LHdqn",
        "colab_type": "code",
        "colab": {
          "base_uri": "https://localhost:8080/",
          "height": 590
        },
        "outputId": "34781e81-837a-4aa2-afaf-f23c18213337"
      },
      "source": [
        "sns.boxplot(debit['amount'])\n",
        "plt.title('Debit Txn Outliers')\n",
        "plt.show()\n",
        "sns.boxplot(credit['amount'])\n",
        "plt.title('Credit Txn Outliers')\n",
        "plt.show()"
      ],
      "execution_count": null,
      "outputs": [
        {
          "output_type": "display_data",
          "data": {
            "image/png": "[encoded data removed]",
            "text/plain": [
              "<Figure size 432x288 with 1 Axes>"
            ]
          },
          "metadata": {
            "tags": [],
            "needs_background": "light"
          }
        },
        {
          "output_type": "execute_result",
          "data": {
            "text/plain": [
              "Text(0.5, 1.0, 'Credit Txn Outliers')"
            ]
          },
          "metadata": {
            "tags": []
          },
          "execution_count": 561
        },
        {
          "output_type": "display_data",
          "data": {
            "image/png": "[encoded data removed]",
            "text/plain": [
              "<Figure size 432x288 with 1 Axes>"
            ]
          },
          "metadata": {
            "tags": [],
            "needs_background": "light"
          }
        }
      ]
    },
    {
      "cell_type": "code",
      "metadata": {
        "id": "MvRnTRyOHipa",
        "colab_type": "code",
        "colab": {
          "base_uri": "https://localhost:8080/",
          "height": 541
        },
        "outputId": "ceb31d5c-a1f3-4f48-e7be-0a0148a38a8b"
      },
      "source": [
        "from pandas.api.types import is_numeric_dtype\n",
        "def remove_outlier(df, column, ulim):\n",
        "\t    low = 0\n",
        "\t    high = ulim\n",
        "\t    quant_df = df[column].quantile([low, high])\n",
        "\t    df = df[(df[column] > quant_df.loc[low]) \n",
        "               & (df[column] < quant_df.loc[high])]\n",
        "\t    return df\n",
        "\t\n",
        "credit = remove_outlier(credit, 'amount', 0.98)\n",
        "debit = remove_outlier(debit, 'amount', 0.9995)\n",
        "sns.boxplot(credit['amount'])\n",
        "plt.show()\n",
        "sns.boxplot(debit['amount'])\n",
        "plt.show()  "
      ],
      "execution_count": null,
      "outputs": [
        {
          "output_type": "display_data",
          "data": {
            "image/png": "[encoded data removed]",
            "text/plain": [
              "<Figure size 432x288 with 1 Axes>"
            ]
          },
          "metadata": {
            "tags": [],
            "needs_background": "light"
          }
        },
        {
          "output_type": "display_data",
          "data": {
            "image/png": "[encoded data removed]",
            "text/plain": [
              "<Figure size 432x288 with 1 Axes>"
            ]
          },
          "metadata": {
            "tags": [],
            "needs_background": "light"
          }
        }
      ]
    },
    {
      "cell_type": "code",
      "metadata": {
        "id": "FAT5NLXqv8st",
        "colab_type": "code",
        "colab": {
          "base_uri": "https://localhost:8080/",
          "height": 34
        },
        "outputId": "b44bd57f-1e1b-427b-8364-e07b2796384e"
      },
      "source": [
        "print(debit.shape, credit.shape)"
      ],
      "execution_count": null,
      "outputs": [
        {
          "output_type": "stream",
          "text": [
            "(11149, 26) (846, 26)\n"
          ],
          "name": "stdout"
        }
      ]
    },
    {
      "cell_type": "code",
      "metadata": {
        "id": "xwi4Fj1KHXFX",
        "colab_type": "code",
        "colab": {
          "base_uri": "https://localhost:8080/",
          "height": 34
        },
        "outputId": "faa7f3d2-70bd-4e04-d446-23c2c5a02d8e"
      },
      "source": [
        "credita = credit.groupby('date')['amount'].agg(sum)\n",
        "credita.mean()"
      ],
      "execution_count": null,
      "outputs": [
        {
          "output_type": "execute_result",
          "data": {
            "text/plain": [
              "23593.50461538462"
            ]
          },
          "metadata": {
            "tags": []
          },
          "execution_count": 564
        }
      ]
    },
    {
      "cell_type": "code",
      "metadata": {
        "id": "z6CFX3xHHbZR",
        "colab_type": "code",
        "colab": {
          "base_uri": "https://localhost:8080/",
          "height": 34
        },
        "outputId": "2dd3531f-9cd4-4e81-c026-d657c3bff8cd"
      },
      "source": [
        "debita = debit.groupby('date')['amount'].agg(sum)\n",
        "debita.mean()"
      ],
      "execution_count": null,
      "outputs": [
        {
          "output_type": "execute_result",
          "data": {
            "text/plain": [
              "6180.025494505494"
            ]
          },
          "metadata": {
            "tags": []
          },
          "execution_count": 565
        }
      ]
    },
    {
      "cell_type": "code",
      "metadata": {
        "id": "hU_8hbivPDy2",
        "colab_type": "code",
        "colab": {
          "base_uri": "https://localhost:8080/",
          "height": 34
        },
        "outputId": "aae348f9-1475-4585-f26b-563a6a6a8e1b"
      },
      "source": [
        "total = debit.append(credit)\n",
        "total.shape"
      ],
      "execution_count": null,
      "outputs": [
        {
          "output_type": "execute_result",
          "data": {
            "text/plain": [
              "(11995, 26)"
            ]
          },
          "metadata": {
            "tags": []
          },
          "execution_count": 566
        }
      ]
    },
    {
      "cell_type": "code",
      "metadata": {
        "id": "VSMX-j-jTX7g",
        "colab_type": "code",
        "colab": {
          "base_uri": "https://localhost:8080/",
          "height": 906
        },
        "outputId": "1cc31791-ef4f-4a90-d9a3-66cbaf6e28b1"
      },
      "source": [
        "total['month'] = pd.DatetimeIndex(total.date).month\n",
        "#total['week'] = 0\n",
        "count = [abs]\n",
        "for i in range(len(total.date)):\n",
        "  for j in range(7):\n",
        "    count.append(i)\n",
        "    \n",
        "count = count[1:]    \n",
        "total['count'] = pd.Series(count)\n",
        "\n",
        "\n",
        "total.tail().T"
      ],
      "execution_count": null,
      "outputs": [
        {
          "output_type": "execute_result",
          "data": {
            "text/html": [
              "<div>\n",
              "<style scoped>\n",
              "    .dataframe tbody tr th:only-of-type {\n",
              "        vertical-align: middle;\n",
              "    }\n",
              "\n",
              "    .dataframe tbody tr th {\n",
              "        vertical-align: top;\n",
              "    }\n",
              "\n",
              "    .dataframe thead th {\n",
              "        text-align: right;\n",
              "    }\n",
              "</style>\n",
              "<table border=\"1\" class=\"dataframe\">\n",
              "  <thead>\n",
              "    <tr style=\"text-align: right;\">\n",
              "      <th></th>\n",
              "      <th>11995</th>\n",
              "      <th>12000</th>\n",
              "      <th>12001</th>\n",
              "      <th>12003</th>\n",
              "      <th>12004</th>\n",
              "    </tr>\n",
              "  </thead>\n",
              "  <tbody>\n",
              "    <tr>\n",
              "      <th>status</th>\n",
              "      <td>posted</td>\n",
              "      <td>posted</td>\n",
              "      <td>posted</td>\n",
              "      <td>posted</td>\n",
              "      <td>posted</td>\n",
              "    </tr>\n",
              "    <tr>\n",
              "      <th>card_present_flag</th>\n",
              "      <td>NaN</td>\n",
              "      <td>NaN</td>\n",
              "      <td>NaN</td>\n",
              "      <td>NaN</td>\n",
              "      <td>NaN</td>\n",
              "    </tr>\n",
              "    <tr>\n",
              "      <th>bpay_biller_code</th>\n",
              "      <td>0</td>\n",
              "      <td>0</td>\n",
              "      <td>0</td>\n",
              "      <td>0</td>\n",
              "      <td>0</td>\n",
              "    </tr>\n",
              "    <tr>\n",
              "      <th>account</th>\n",
              "      <td>ACC-1973887809</td>\n",
              "      <td>ACC-819621312</td>\n",
              "      <td>ACC-2920611728</td>\n",
              "      <td>ACC-1799207998</td>\n",
              "      <td>ACC-2171593283</td>\n",
              "    </tr>\n",
              "    <tr>\n",
              "      <th>currency</th>\n",
              "      <td>AUD</td>\n",
              "      <td>AUD</td>\n",
              "      <td>AUD</td>\n",
              "      <td>AUD</td>\n",
              "      <td>AUD</td>\n",
              "    </tr>\n",
              "    <tr>\n",
              "      <th>long_lat</th>\n",
              "      <td>115.78 -31.90</td>\n",
              "      <td>145.04 -37.85</td>\n",
              "      <td>144.96 -37.76</td>\n",
              "      <td>150.68 -33.79</td>\n",
              "      <td>146.94 -36.04</td>\n",
              "    </tr>\n",
              "    <tr>\n",
              "      <th>txn_description</th>\n",
              "      <td>PAY/SALARY</td>\n",
              "      <td>PAY/SALARY</td>\n",
              "      <td>PAY/SALARY</td>\n",
              "      <td>PAY/SALARY</td>\n",
              "      <td>PAY/SALARY</td>\n",
              "    </tr>\n",
              "    <tr>\n",
              "      <th>merchant_id</th>\n",
              "      <td>NaN</td>\n",
              "      <td>NaN</td>\n",
              "      <td>NaN</td>\n",
              "      <td>NaN</td>\n",
              "      <td>NaN</td>\n",
              "    </tr>\n",
              "    <tr>\n",
              "      <th>merchant_code</th>\n",
              "      <td>0</td>\n",
              "      <td>0</td>\n",
              "      <td>0</td>\n",
              "      <td>0</td>\n",
              "      <td>0</td>\n",
              "    </tr>\n",
              "    <tr>\n",
              "      <th>first_name</th>\n",
              "      <td>Antonio</td>\n",
              "      <td>Michele</td>\n",
              "      <td>Tyler</td>\n",
              "      <td>Susan</td>\n",
              "      <td>Fernando</td>\n",
              "    </tr>\n",
              "    <tr>\n",
              "      <th>balance</th>\n",
              "      <td>9378.51</td>\n",
              "      <td>3440.01</td>\n",
              "      <td>11381.4</td>\n",
              "      <td>11454.5</td>\n",
              "      <td>19893.5</td>\n",
              "    </tr>\n",
              "    <tr>\n",
              "      <th>date</th>\n",
              "      <td>2018-10-31 00:00:00</td>\n",
              "      <td>2018-10-31 00:00:00</td>\n",
              "      <td>2018-10-31 00:00:00</td>\n",
              "      <td>2018-10-31 00:00:00</td>\n",
              "      <td>2018-10-31 00:00:00</td>\n",
              "    </tr>\n",
              "    <tr>\n",
              "      <th>gender</th>\n",
              "      <td>M</td>\n",
              "      <td>F</td>\n",
              "      <td>M</td>\n",
              "      <td>F</td>\n",
              "      <td>M</td>\n",
              "    </tr>\n",
              "    <tr>\n",
              "      <th>age</th>\n",
              "      <td>26</td>\n",
              "      <td>30</td>\n",
              "      <td>69</td>\n",
              "      <td>20</td>\n",
              "      <td>19</td>\n",
              "    </tr>\n",
              "    <tr>\n",
              "      <th>merchant_suburb</th>\n",
              "      <td>NaN</td>\n",
              "      <td>NaN</td>\n",
              "      <td>NaN</td>\n",
              "      <td>NaN</td>\n",
              "      <td>NaN</td>\n",
              "    </tr>\n",
              "    <tr>\n",
              "      <th>merchant_state</th>\n",
              "      <td>NaN</td>\n",
              "      <td>NaN</td>\n",
              "      <td>NaN</td>\n",
              "      <td>NaN</td>\n",
              "      <td>NaN</td>\n",
              "    </tr>\n",
              "    <tr>\n",
              "      <th>extraction</th>\n",
              "      <td>2018-10-31T16:00:00.000+0000</td>\n",
              "      <td>2018-10-31T17:00:00.000+0000</td>\n",
              "      <td>2018-10-31T17:00:00.000+0000</td>\n",
              "      <td>2018-10-31T17:00:00.000+0000</td>\n",
              "      <td>2018-10-31T17:00:00.000+0000</td>\n",
              "    </tr>\n",
              "    <tr>\n",
              "      <th>amount</th>\n",
              "      <td>1098.91</td>\n",
              "      <td>1158.15</td>\n",
              "      <td>1043.12</td>\n",
              "      <td>1395.49</td>\n",
              "      <td>2639.76</td>\n",
              "    </tr>\n",
              "    <tr>\n",
              "      <th>transaction_id</th>\n",
              "      <td>0e6cffb4401043c891ab7a50ec594208</td>\n",
              "      <td>ad13e06fffba4771b3c994f9147e68c0</td>\n",
              "      <td>14a1604e6ead4b54b65d7a28ec546a69</td>\n",
              "      <td>cd1b1dea1d2f43e882d3499b3717d23b</td>\n",
              "      <td>d4804402c1c34e0ebc53a4c395e0c63d</td>\n",
              "    </tr>\n",
              "    <tr>\n",
              "      <th>country</th>\n",
              "      <td>Australia</td>\n",
              "      <td>Australia</td>\n",
              "      <td>Australia</td>\n",
              "      <td>Australia</td>\n",
              "      <td>Australia</td>\n",
              "    </tr>\n",
              "    <tr>\n",
              "      <th>customer_id</th>\n",
              "      <td>CUS-1646621553</td>\n",
              "      <td>CUS-1271030853</td>\n",
              "      <td>CUS-1388323263</td>\n",
              "      <td>CUS-164374203</td>\n",
              "      <td>CUS-2317998716</td>\n",
              "    </tr>\n",
              "    <tr>\n",
              "      <th>merchant_long_lat</th>\n",
              "      <td>NaN</td>\n",
              "      <td>NaN</td>\n",
              "      <td>NaN</td>\n",
              "      <td>NaN</td>\n",
              "      <td>NaN</td>\n",
              "    </tr>\n",
              "    <tr>\n",
              "      <th>movement</th>\n",
              "      <td>credit</td>\n",
              "      <td>credit</td>\n",
              "      <td>credit</td>\n",
              "      <td>credit</td>\n",
              "      <td>credit</td>\n",
              "    </tr>\n",
              "    <tr>\n",
              "      <th>balance_left</th>\n",
              "      <td>10477.4</td>\n",
              "      <td>4598.16</td>\n",
              "      <td>12424.6</td>\n",
              "      <td>12850</td>\n",
              "      <td>22533.2</td>\n",
              "    </tr>\n",
              "    <tr>\n",
              "      <th>month</th>\n",
              "      <td>10</td>\n",
              "      <td>10</td>\n",
              "      <td>10</td>\n",
              "      <td>10</td>\n",
              "      <td>10</td>\n",
              "    </tr>\n",
              "    <tr>\n",
              "      <th>time</th>\n",
              "      <td>00:00:00</td>\n",
              "      <td>00:00:00</td>\n",
              "      <td>00:00:00</td>\n",
              "      <td>00:00:00</td>\n",
              "      <td>00:00:00</td>\n",
              "    </tr>\n",
              "    <tr>\n",
              "      <th>count</th>\n",
              "      <td>1713</td>\n",
              "      <td>1714</td>\n",
              "      <td>1714</td>\n",
              "      <td>1714</td>\n",
              "      <td>1714</td>\n",
              "    </tr>\n",
              "  </tbody>\n",
              "</table>\n",
              "</div>"
            ],
            "text/plain": [
              "                                              11995  ...                             12004\n",
              "status                                       posted  ...                            posted\n",
              "card_present_flag                               NaN  ...                               NaN\n",
              "bpay_biller_code                                  0  ...                                 0\n",
              "account                              ACC-1973887809  ...                    ACC-2171593283\n",
              "currency                                        AUD  ...                               AUD\n",
              "long_lat                              115.78 -31.90  ...                     146.94 -36.04\n",
              "txn_description                          PAY/SALARY  ...                        PAY/SALARY\n",
              "merchant_id                                     NaN  ...                               NaN\n",
              "merchant_code                                     0  ...                                 0\n",
              "first_name                                  Antonio  ...                          Fernando\n",
              "balance                                     9378.51  ...                           19893.5\n",
              "date                            2018-10-31 00:00:00  ...               2018-10-31 00:00:00\n",
              "gender                                            M  ...                                 M\n",
              "age                                              26  ...                                19\n",
              "merchant_suburb                                 NaN  ...                               NaN\n",
              "merchant_state                                  NaN  ...                               NaN\n",
              "extraction             2018-10-31T16:00:00.000+0000  ...      2018-10-31T17:00:00.000+0000\n",
              "amount                                      1098.91  ...                           2639.76\n",
              "transaction_id     0e6cffb4401043c891ab7a50ec594208  ...  d4804402c1c34e0ebc53a4c395e0c63d\n",
              "country                                   Australia  ...                         Australia\n",
              "customer_id                          CUS-1646621553  ...                    CUS-2317998716\n",
              "merchant_long_lat                               NaN  ...                               NaN\n",
              "movement                                     credit  ...                            credit\n",
              "balance_left                                10477.4  ...                           22533.2\n",
              "month                                            10  ...                                10\n",
              "time                                       00:00:00  ...                          00:00:00\n",
              "count                                          1713  ...                              1714\n",
              "\n",
              "[27 rows x 5 columns]"
            ]
          },
          "metadata": {
            "tags": []
          },
          "execution_count": 567
        }
      ]
    },
    {
      "cell_type": "code",
      "metadata": {
        "id": "yfF_LTzZTJdb",
        "colab_type": "code",
        "colab": {
          "base_uri": "https://localhost:8080/",
          "height": 204
        },
        "outputId": "8ac1d241-dd9e-4d4d-f9c0-a720b5812b31"
      },
      "source": [
        "total = total.groupby(['count','date','movement'])['amount'].agg([sum])\n",
        "total = total.reset_index()\n",
        "#totol = total.drop( [['amount']['mean'], ['month']['sum']], axis =1)\n",
        "total.tail()"
      ],
      "execution_count": null,
      "outputs": [
        {
          "output_type": "execute_result",
          "data": {
            "text/html": [
              "<div>\n",
              "<style scoped>\n",
              "    .dataframe tbody tr th:only-of-type {\n",
              "        vertical-align: middle;\n",
              "    }\n",
              "\n",
              "    .dataframe tbody tr th {\n",
              "        vertical-align: top;\n",
              "    }\n",
              "\n",
              "    .dataframe thead th {\n",
              "        text-align: right;\n",
              "    }\n",
              "</style>\n",
              "<table border=\"1\" class=\"dataframe\">\n",
              "  <thead>\n",
              "    <tr style=\"text-align: right;\">\n",
              "      <th></th>\n",
              "      <th>count</th>\n",
              "      <th>date</th>\n",
              "      <th>movement</th>\n",
              "      <th>sum</th>\n",
              "    </tr>\n",
              "  </thead>\n",
              "  <tbody>\n",
              "    <tr>\n",
              "      <th>2230</th>\n",
              "      <td>1716</td>\n",
              "      <td>2018-10-31</td>\n",
              "      <td>debit</td>\n",
              "      <td>196.50</td>\n",
              "    </tr>\n",
              "    <tr>\n",
              "      <th>2231</th>\n",
              "      <td>1717</td>\n",
              "      <td>2018-10-31</td>\n",
              "      <td>debit</td>\n",
              "      <td>233.67</td>\n",
              "    </tr>\n",
              "    <tr>\n",
              "      <th>2232</th>\n",
              "      <td>1718</td>\n",
              "      <td>2018-10-31</td>\n",
              "      <td>debit</td>\n",
              "      <td>555.07</td>\n",
              "    </tr>\n",
              "    <tr>\n",
              "      <th>2233</th>\n",
              "      <td>1719</td>\n",
              "      <td>2018-10-31</td>\n",
              "      <td>debit</td>\n",
              "      <td>223.73</td>\n",
              "    </tr>\n",
              "    <tr>\n",
              "      <th>2234</th>\n",
              "      <td>1720</td>\n",
              "      <td>2018-10-31</td>\n",
              "      <td>debit</td>\n",
              "      <td>97.09</td>\n",
              "    </tr>\n",
              "  </tbody>\n",
              "</table>\n",
              "</div>"
            ],
            "text/plain": [
              "      count       date movement     sum\n",
              "2230   1716 2018-10-31    debit  196.50\n",
              "2231   1717 2018-10-31    debit  233.67\n",
              "2232   1718 2018-10-31    debit  555.07\n",
              "2233   1719 2018-10-31    debit  223.73\n",
              "2234   1720 2018-10-31    debit   97.09"
            ]
          },
          "metadata": {
            "tags": []
          },
          "execution_count": 568
        }
      ]
    },
    {
      "cell_type": "code",
      "metadata": {
        "id": "T2ZFS2wHaicg",
        "colab_type": "code",
        "colab": {
          "base_uri": "https://localhost:8080/",
          "height": 102
        },
        "outputId": "b1b91ac3-37a4-4dcf-d26b-4ec59973b870"
      },
      "source": [
        "total.dtypes"
      ],
      "execution_count": null,
      "outputs": [
        {
          "output_type": "execute_result",
          "data": {
            "text/plain": [
              "count                int64\n",
              "date        datetime64[ns]\n",
              "movement            object\n",
              "sum                float64\n",
              "dtype: object"
            ]
          },
          "metadata": {
            "tags": []
          },
          "execution_count": 569
        }
      ]
    },
    {
      "cell_type": "code",
      "metadata": {
        "id": "ztAdhzbHa5Yn",
        "colab_type": "code",
        "colab": {
          "base_uri": "https://localhost:8080/",
          "height": 282
        },
        "outputId": "e2c673f3-c940-4e01-a1ee-aa062d1213c2"
      },
      "source": [
        "plt.plot(total['count'], total['sum'])"
      ],
      "execution_count": null,
      "outputs": [
        {
          "output_type": "execute_result",
          "data": {
            "text/plain": [
              "[<matplotlib.lines.Line2D at 0x7ff591d28828>]"
            ]
          },
          "metadata": {
            "tags": []
          },
          "execution_count": 570
        },
        {
          "output_type": "display_data",
          "data": {
            "image/png": "[encoded data removed]",
            "text/plain": [
              "<Figure size 432x288 with 1 Axes>"
            ]
          },
          "metadata": {
            "tags": [],
            "needs_background": "light"
          }
        }
      ]
    },
    {
      "cell_type": "code",
      "metadata": {
        "id": "QUdTCcLolKs8",
        "colab_type": "code",
        "colab": {
          "base_uri": "https://localhost:8080/",
          "height": 421
        },
        "outputId": "0332dfc0-d662-4fc8-bb6a-4f027dbdceae"
      },
      "source": [
        "total = total.groupby('count')['sum'].agg(sum)\n",
        "total = total.reset_index()\n",
        "plt.figure(figsize=(12,6))\n",
        "plt.plot(total['count'], total['sum'])\n",
        "plt.xlabel('Weekly sales')\n",
        "plt.ylabel('Amount of Sales')\n",
        "plt.title('Weekly Volume of Spending')\n",
        "plt.legend()\n",
        "plt.show()"
      ],
      "execution_count": null,
      "outputs": [
        {
          "output_type": "stream",
          "text": [
            "No handles with labels found to put in legend.\n"
          ],
          "name": "stderr"
        },
        {
          "output_type": "display_data",
          "data": {
            "image/png": "[encoded data removed]",
            "text/plain": [
              "<Figure size 864x432 with 1 Axes>"
            ]
          },
          "metadata": {
            "tags": [],
            "needs_background": "light"
          }
        }
      ]
    },
    {
      "cell_type": "code",
      "metadata": {
        "id": "pAxSRPZ8iClZ",
        "colab_type": "code",
        "colab": {
          "base_uri": "https://localhost:8080/",
          "height": 204
        },
        "outputId": "cf089965-e9bb-4f4c-a203-12a318191549"
      },
      "source": [
        "debita = debita.reset_index()\n",
        "debita.head()"
      ],
      "execution_count": null,
      "outputs": [
        {
          "output_type": "execute_result",
          "data": {
            "text/html": [
              "<div>\n",
              "<style scoped>\n",
              "    .dataframe tbody tr th:only-of-type {\n",
              "        vertical-align: middle;\n",
              "    }\n",
              "\n",
              "    .dataframe tbody tr th {\n",
              "        vertical-align: top;\n",
              "    }\n",
              "\n",
              "    .dataframe thead th {\n",
              "        text-align: right;\n",
              "    }\n",
              "</style>\n",
              "<table border=\"1\" class=\"dataframe\">\n",
              "  <thead>\n",
              "    <tr style=\"text-align: right;\">\n",
              "      <th></th>\n",
              "      <th>date</th>\n",
              "      <th>amount</th>\n",
              "    </tr>\n",
              "  </thead>\n",
              "  <tbody>\n",
              "    <tr>\n",
              "      <th>0</th>\n",
              "      <td>2018-08-01</td>\n",
              "      <td>5546.44</td>\n",
              "    </tr>\n",
              "    <tr>\n",
              "      <th>1</th>\n",
              "      <td>2018-08-02</td>\n",
              "      <td>7558.09</td>\n",
              "    </tr>\n",
              "    <tr>\n",
              "      <th>2</th>\n",
              "      <td>2018-08-03</td>\n",
              "      <td>8035.90</td>\n",
              "    </tr>\n",
              "    <tr>\n",
              "      <th>3</th>\n",
              "      <td>2018-08-04</td>\n",
              "      <td>6296.05</td>\n",
              "    </tr>\n",
              "    <tr>\n",
              "      <th>4</th>\n",
              "      <td>2018-08-05</td>\n",
              "      <td>4426.50</td>\n",
              "    </tr>\n",
              "  </tbody>\n",
              "</table>\n",
              "</div>"
            ],
            "text/plain": [
              "        date   amount\n",
              "0 2018-08-01  5546.44\n",
              "1 2018-08-02  7558.09\n",
              "2 2018-08-03  8035.90\n",
              "3 2018-08-04  6296.05\n",
              "4 2018-08-05  4426.50"
            ]
          },
          "metadata": {
            "tags": []
          },
          "execution_count": 572
        }
      ]
    },
    {
      "cell_type": "code",
      "metadata": {
        "id": "g2rnm-EMwtSw",
        "colab_type": "code",
        "colab": {
          "base_uri": "https://localhost:8080/",
          "height": 204
        },
        "outputId": "0700413f-a81f-4649-91e7-5e0e875dbdbc"
      },
      "source": [
        "count = [abs]\n",
        "for i in range(len(debita.date)):\n",
        "  for j in range(7):\n",
        "    count.append(i)\n",
        "    \n",
        "count = count[1:]    \n",
        "debita['count'] = pd.Series(count)\n",
        "debita.tail()"
      ],
      "execution_count": null,
      "outputs": [
        {
          "output_type": "execute_result",
          "data": {
            "text/html": [
              "<div>\n",
              "<style scoped>\n",
              "    .dataframe tbody tr th:only-of-type {\n",
              "        vertical-align: middle;\n",
              "    }\n",
              "\n",
              "    .dataframe tbody tr th {\n",
              "        vertical-align: top;\n",
              "    }\n",
              "\n",
              "    .dataframe thead th {\n",
              "        text-align: right;\n",
              "    }\n",
              "</style>\n",
              "<table border=\"1\" class=\"dataframe\">\n",
              "  <thead>\n",
              "    <tr style=\"text-align: right;\">\n",
              "      <th></th>\n",
              "      <th>date</th>\n",
              "      <th>amount</th>\n",
              "      <th>count</th>\n",
              "    </tr>\n",
              "  </thead>\n",
              "  <tbody>\n",
              "    <tr>\n",
              "      <th>86</th>\n",
              "      <td>2018-10-27</td>\n",
              "      <td>6971.48</td>\n",
              "      <td>12</td>\n",
              "    </tr>\n",
              "    <tr>\n",
              "      <th>87</th>\n",
              "      <td>2018-10-28</td>\n",
              "      <td>8438.11</td>\n",
              "      <td>12</td>\n",
              "    </tr>\n",
              "    <tr>\n",
              "      <th>88</th>\n",
              "      <td>2018-10-29</td>\n",
              "      <td>2519.18</td>\n",
              "      <td>12</td>\n",
              "    </tr>\n",
              "    <tr>\n",
              "      <th>89</th>\n",
              "      <td>2018-10-30</td>\n",
              "      <td>2089.32</td>\n",
              "      <td>12</td>\n",
              "    </tr>\n",
              "    <tr>\n",
              "      <th>90</th>\n",
              "      <td>2018-10-31</td>\n",
              "      <td>5148.15</td>\n",
              "      <td>12</td>\n",
              "    </tr>\n",
              "  </tbody>\n",
              "</table>\n",
              "</div>"
            ],
            "text/plain": [
              "         date   amount  count\n",
              "86 2018-10-27  6971.48     12\n",
              "87 2018-10-28  8438.11     12\n",
              "88 2018-10-29  2519.18     12\n",
              "89 2018-10-30  2089.32     12\n",
              "90 2018-10-31  5148.15     12"
            ]
          },
          "metadata": {
            "tags": []
          },
          "execution_count": 573
        }
      ]
    },
    {
      "cell_type": "code",
      "metadata": {
        "id": "zXyMv6hFxU4h",
        "colab_type": "code",
        "colab": {
          "base_uri": "https://localhost:8080/",
          "height": 34
        },
        "outputId": "7c47bfc3-97cb-4f08-d71b-6f7f9af3d7ae"
      },
      "source": [
        "credit.date.min()"
      ],
      "execution_count": null,
      "outputs": [
        {
          "output_type": "execute_result",
          "data": {
            "text/plain": [
              "Timestamp('2018-08-01 00:00:00')"
            ]
          },
          "metadata": {
            "tags": []
          },
          "execution_count": 574
        }
      ]
    },
    {
      "cell_type": "code",
      "metadata": {
        "id": "SpgCVtTSxk10",
        "colab_type": "code",
        "colab": {
          "base_uri": "https://localhost:8080/",
          "height": 34
        },
        "outputId": "2b401aab-b2a7-4e19-d172-3cd505632aa8"
      },
      "source": [
        "credit.date.max()"
      ],
      "execution_count": null,
      "outputs": [
        {
          "output_type": "execute_result",
          "data": {
            "text/plain": [
              "Timestamp('2018-10-31 00:00:00')"
            ]
          },
          "metadata": {
            "tags": []
          },
          "execution_count": 575
        }
      ]
    },
    {
      "cell_type": "code",
      "metadata": {
        "id": "e2yFYBViympt",
        "colab_type": "code",
        "colab": {
          "base_uri": "https://localhost:8080/",
          "height": 204
        },
        "outputId": "894278d8-b58c-487a-c73f-62e3aec3a7f3"
      },
      "source": [
        "credita = credita.reset_index()\n",
        "credita.head()"
      ],
      "execution_count": null,
      "outputs": [
        {
          "output_type": "execute_result",
          "data": {
            "text/html": [
              "<div>\n",
              "<style scoped>\n",
              "    .dataframe tbody tr th:only-of-type {\n",
              "        vertical-align: middle;\n",
              "    }\n",
              "\n",
              "    .dataframe tbody tr th {\n",
              "        vertical-align: top;\n",
              "    }\n",
              "\n",
              "    .dataframe thead th {\n",
              "        text-align: right;\n",
              "    }\n",
              "</style>\n",
              "<table border=\"1\" class=\"dataframe\">\n",
              "  <thead>\n",
              "    <tr style=\"text-align: right;\">\n",
              "      <th></th>\n",
              "      <th>date</th>\n",
              "      <th>amount</th>\n",
              "    </tr>\n",
              "  </thead>\n",
              "  <tbody>\n",
              "    <tr>\n",
              "      <th>0</th>\n",
              "      <td>2018-08-01</td>\n",
              "      <td>24321.50</td>\n",
              "    </tr>\n",
              "    <tr>\n",
              "      <th>1</th>\n",
              "      <td>2018-08-02</td>\n",
              "      <td>14228.23</td>\n",
              "    </tr>\n",
              "    <tr>\n",
              "      <th>2</th>\n",
              "      <td>2018-08-03</td>\n",
              "      <td>29484.68</td>\n",
              "    </tr>\n",
              "    <tr>\n",
              "      <th>3</th>\n",
              "      <td>2018-08-06</td>\n",
              "      <td>34651.61</td>\n",
              "    </tr>\n",
              "    <tr>\n",
              "      <th>4</th>\n",
              "      <td>2018-08-07</td>\n",
              "      <td>19973.02</td>\n",
              "    </tr>\n",
              "  </tbody>\n",
              "</table>\n",
              "</div>"
            ],
            "text/plain": [
              "        date    amount\n",
              "0 2018-08-01  24321.50\n",
              "1 2018-08-02  14228.23\n",
              "2 2018-08-03  29484.68\n",
              "3 2018-08-06  34651.61\n",
              "4 2018-08-07  19973.02"
            ]
          },
          "metadata": {
            "tags": []
          },
          "execution_count": 576
        }
      ]
    },
    {
      "cell_type": "code",
      "metadata": {
        "id": "JsfPX7PWywM1",
        "colab_type": "code",
        "colab": {
          "base_uri": "https://localhost:8080/",
          "height": 204
        },
        "outputId": "056a2fb5-130b-4cdb-bb87-a128b3a96d3f"
      },
      "source": [
        "count = [abs]\n",
        "for i in range(len(credita.date)):\n",
        "  for j in range(7):\n",
        "    count.append(i)\n",
        "    \n",
        "count = count[1:]    \n",
        "credita['count'] = pd.Series(count)\n",
        "credita.tail()"
      ],
      "execution_count": null,
      "outputs": [
        {
          "output_type": "execute_result",
          "data": {
            "text/html": [
              "<div>\n",
              "<style scoped>\n",
              "    .dataframe tbody tr th:only-of-type {\n",
              "        vertical-align: middle;\n",
              "    }\n",
              "\n",
              "    .dataframe tbody tr th {\n",
              "        vertical-align: top;\n",
              "    }\n",
              "\n",
              "    .dataframe thead th {\n",
              "        text-align: right;\n",
              "    }\n",
              "</style>\n",
              "<table border=\"1\" class=\"dataframe\">\n",
              "  <thead>\n",
              "    <tr style=\"text-align: right;\">\n",
              "      <th></th>\n",
              "      <th>date</th>\n",
              "      <th>amount</th>\n",
              "      <th>count</th>\n",
              "    </tr>\n",
              "  </thead>\n",
              "  <tbody>\n",
              "    <tr>\n",
              "      <th>60</th>\n",
              "      <td>2018-10-25</td>\n",
              "      <td>14228.23</td>\n",
              "      <td>8</td>\n",
              "    </tr>\n",
              "    <tr>\n",
              "      <th>61</th>\n",
              "      <td>2018-10-26</td>\n",
              "      <td>29484.68</td>\n",
              "      <td>8</td>\n",
              "    </tr>\n",
              "    <tr>\n",
              "      <th>62</th>\n",
              "      <td>2018-10-29</td>\n",
              "      <td>31624.66</td>\n",
              "      <td>8</td>\n",
              "    </tr>\n",
              "    <tr>\n",
              "      <th>63</th>\n",
              "      <td>2018-10-30</td>\n",
              "      <td>19973.02</td>\n",
              "      <td>9</td>\n",
              "    </tr>\n",
              "    <tr>\n",
              "      <th>64</th>\n",
              "      <td>2018-10-31</td>\n",
              "      <td>16818.98</td>\n",
              "      <td>9</td>\n",
              "    </tr>\n",
              "  </tbody>\n",
              "</table>\n",
              "</div>"
            ],
            "text/plain": [
              "         date    amount  count\n",
              "60 2018-10-25  14228.23      8\n",
              "61 2018-10-26  29484.68      8\n",
              "62 2018-10-29  31624.66      8\n",
              "63 2018-10-30  19973.02      9\n",
              "64 2018-10-31  16818.98      9"
            ]
          },
          "metadata": {
            "tags": []
          },
          "execution_count": 577
        }
      ]
    },
    {
      "cell_type": "code",
      "metadata": {
        "id": "yrgjYvRvy5e0",
        "colab_type": "code",
        "colab": {
          "base_uri": "https://localhost:8080/",
          "height": 295
        },
        "outputId": "05b24daf-febe-4974-dfe1-52a15081d839"
      },
      "source": [
        "#plt.figure(figsize=(12,6))\n",
        "plt.plot(debita['date'], debita['amount'])\n",
        "plt.plot(credita['date'], credita['amount'])\n",
        "plt.xlabel('Time (days)')\n",
        "plt.ylabel('Amount of Sales')\n",
        "plt.title('Daily Volume of Spending')\n",
        "plt.legend(['Debit','Credit'])\n",
        "plt.show()"
      ],
      "execution_count": null,
      "outputs": [
        {
          "output_type": "display_data",
          "data": {
            "image/png": "[encoded data removed]",
            "text/plain": [
              "<Figure size 432x288 with 1 Axes>"
            ]
          },
          "metadata": {
            "tags": [],
            "needs_background": "light"
          }
        }
      ]
    },
    {
      "cell_type": "code",
      "metadata": {
        "id": "kXi7SAjy0idU",
        "colab_type": "code",
        "colab": {
          "base_uri": "https://localhost:8080/",
          "height": 170
        },
        "outputId": "bd8e75b8-4dae-456f-acc0-a96c1b164589"
      },
      "source": [
        "debit.merchant_state.value_counts()"
      ],
      "execution_count": null,
      "outputs": [
        {
          "output_type": "execute_result",
          "data": {
            "text/plain": [
              "NSW    2165\n",
              "VIC    2127\n",
              "QLD    1553\n",
              "WA     1100\n",
              "SA      415\n",
              "NT      205\n",
              "ACT      73\n",
              "TAS      68\n",
              "Name: merchant_state, dtype: int64"
            ]
          },
          "metadata": {
            "tags": []
          },
          "execution_count": 583
        }
      ]
    },
    {
      "cell_type": "code",
      "metadata": {
        "id": "8mV8-36a26Ko",
        "colab_type": "code",
        "colab": {
          "base_uri": "https://localhost:8080/",
          "height": 221
        },
        "outputId": "fb443843-f290-4ab3-d4a5-27dc6b1bfff8"
      },
      "source": [
        "debit.merchant_suburb.value_counts()"
      ],
      "execution_count": null,
      "outputs": [
        {
          "output_type": "execute_result",
          "data": {
            "text/plain": [
              "Melbourne        253\n",
              "Sydney           233\n",
              "Southport         82\n",
              "Brisbane City     79\n",
              "Chatswood         55\n",
              "                ... \n",
              "Old Guildford      1\n",
              "Myrniong           1\n",
              "South Penrith      1\n",
              "Thirlmere          1\n",
              "Trinity Park       1\n",
              "Name: merchant_suburb, Length: 1609, dtype: int64"
            ]
          },
          "metadata": {
            "tags": []
          },
          "execution_count": 584
        }
      ]
    },
    {
      "cell_type": "code",
      "metadata": {
        "id": "q2x7Bb7V3MlE",
        "colab_type": "code",
        "colab": {}
      },
      "source": [
        ""
      ],
      "execution_count": null,
      "outputs": []
    }
  ]
}